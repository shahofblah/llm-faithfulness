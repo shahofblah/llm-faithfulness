{
 "cells": [
  {
   "cell_type": "code",
   "execution_count": 1,
   "metadata": {},
   "outputs": [],
   "source": [
    "import os\n",
    "\n",
    "# Set the environment variable\n",
    "os.environ['API_KEY'] = ''"
   ]
  },
  {
   "cell_type": "code",
   "execution_count": 3,
   "metadata": {},
   "outputs": [],
   "source": [
    "from classification import mix, getTrainTestSets, Test, validate, Articulate\n",
    "from llm import GetGemini, GetGeminiClassifier\n",
    "\n",
    "def performClassificationAndArticulation(dataset: list[(str,bool)]) -> float:\n",
    "    train, test = getTrainTestSets(20, dataset)\n",
    "\n",
    "    gemClient = GetGeminiClassifier()\n",
    "    response = Test(gemClient, train, test)\n",
    "    print(\"Classification accuracy: \", validate(response, test))\n",
    "    print(Articulate(GetGemini(),test))\n",
    "    return validate(response, test)"
   ]
  },
  {
   "cell_type": "markdown",
   "metadata": {},
   "source": [
    "This is a classification task that Gemini performs well on"
   ]
  },
  {
   "cell_type": "code",
   "execution_count": null,
   "metadata": {},
   "outputs": [],
   "source": [
    "# Generate all pairs of continents\n",
    "from itertools import combinations\n",
    "import time\n",
    "accuracies = []\n",
    "count=0\n",
    "\n",
    "for continent1, continent2 in combinations(cities_by_continent.keys(), 2):\n",
    "    count+=1\n",
    "    if(count%7==0):\n",
    "        time.sleep(61)\n",
    "    townlist = mix(cities_by_continent[continent1][:20], cities_by_continent[continent2][:20])\n",
    "    print(continent1, continent2)\n",
    "    accuracies.append(performClassificationAndArticulation(townlist))\n",
    "print(accuracies)"
   ]
  }
 ],
 "metadata": {
  "kernelspec": {
   "display_name": "owain",
   "language": "python",
   "name": "python3"
  },
  "language_info": {
   "codemirror_mode": {
    "name": "ipython",
    "version": 3
   },
   "file_extension": ".py",
   "mimetype": "text/x-python",
   "name": "python",
   "nbconvert_exporter": "python",
   "pygments_lexer": "ipython3",
   "version": "3.13.0"
  }
 },
 "nbformat": 4,
 "nbformat_minor": 2
}
